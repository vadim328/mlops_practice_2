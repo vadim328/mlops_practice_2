{
 "cells": [
  {
   "cell_type": "code",
   "execution_count": 12,
   "id": "1f11dcc8-ace3-4945-bcbf-1f65dbe86344",
   "metadata": {},
   "outputs": [],
   "source": [
    "import numpy as np\n",
    "import pandas as pd\n",
    "from sklearn.preprocessing import OrdinalEncoder\n",
    "from sklearn.preprocessing import MinMaxScaler\n",
    "from sklearn.preprocessing import StandardScaler\n",
    "from sklearn. preprocessing import OneHotEncoder"
   ]
  },
  {
   "cell_type": "code",
   "execution_count": 15,
   "id": "bcb9535c-d89e-4201-b407-3ca93e90f300",
   "metadata": {},
   "outputs": [],
   "source": [
    "train_df = pd.read_csv('../../data/raw/train.csv', sep=',')\n",
    "test_df = pd.read_csv('../../data/raw/test.csv', sep=',')"
   ]
  },
  {
   "cell_type": "code",
   "execution_count": 16,
   "id": "2081fe68-6e48-42a8-b5f3-c4b3b9cac62e",
   "metadata": {},
   "outputs": [],
   "source": [
    "def pred_obrabotka(df):\n",
    "  df.loc[df['capillary_refill_time'] == '3', 'capillary_refill_time'] = np.nan\n",
    "  df.loc[(df['pain'] == 'slight') | (df['pain'] == 'moderate'), 'pain'] = 'mild_pain'\n",
    "  #df.loc[df['pain'] == 'None', 'pain'] = 'extreme_pain'\n",
    "  df.loc[df['peristalsis'] == 'distend_small', 'peristalsis'] = np.nan\n",
    "  df.loc[(df['abdominal_distention'] == 'none') | (df['abdominal_distention'] == 'None'), 'abdominal_distention'] = 'absent'\n",
    "  df.loc[(df['nasogastric_tube'] == 'none') | (df['nasogastric_tube'] == 'None'), 'nasogastric_tube'] = 'absent'\n",
    "  df.loc[(df['nasogastric_reflux'] == 'none') | (df['nasogastric_reflux'] == 'None'), 'nasogastric_reflux'] = 'absent'\n",
    "  df.loc[df['nasogastric_reflux'] == 'slight', 'nasogastric_reflux'] = np.nan\n",
    "  df.loc[df['rectal_exam_feces'] == 'None', 'rectal_exam_feces'] = 'absent'\n",
    "  df.loc[df['rectal_exam_feces'] == 'serosanguious', 'rectal_exam_feces'] = np.nan\n",
    "  df.loc[df['abdomen'] == 'None', 'abdomen'] = 'distend_small'\n",
    "  df.loc[df['abdomo_appearance'] == 'None', 'abdomo_appearance'] = np.nan\n",
    "  #df['hospital_number'] = df['hospital_number'].apply ( lambda x: str(x)[:3])\n",
    "\n",
    "  return df"
   ]
  },
  {
   "cell_type": "code",
   "execution_count": 17,
   "id": "27ccb90a-f979-4b0b-b3c8-407d809bd551",
   "metadata": {},
   "outputs": [],
   "source": [
    "def new_priznak(df):\n",
    "  df['protein'] = np.where((df['total_protein'] < 30), 'normal', 'many') # Разбиваем по количеству белка\n",
    "\n",
    "  df[\"deviation_from_normal_temp\"] = df[\"rectal_temp\"].apply(lambda x: abs(x - 37.8))\n",
    "\n",
    "  df['surgery_required'] = np.where((df['pain'] == 'extreme_pain') | (df['abdominal_distention'] == 'severe'), 'yes', 'no') # Добавим признак необходимости операции\n",
    "\n",
    "  df['septicemia'] = np.where(df['mucous_membrane'] == 'bright_red', 'yes', 'no') # Добавим признак наличия септицемии\n",
    "\n",
    "  df['intestinal_damage'] = np.where((df['abdomo_appearance'] == 2) |\n",
    "                                     (df['abdomo_appearance'] == 3), 'yes', 'no') # Заменим признак Внешний вид живота (abdomo_appearance) на поражение кишечника\n",
    "\n",
    "  df['nasogastric_reflux_ph'] = np.where((df['nasogastric_reflux_ph'] <= 2), 'normal', 'many') # nasogastric_reflux_ph\n",
    "\n",
    "  df.drop(['id', 'lesion_2', 'lesion_3', 'rectal_temp'], axis= 1, inplace = True) # Убираем неликвидные признаки\n",
    "\n",
    "  return df\n"
   ]
  },
  {
   "cell_type": "code",
   "execution_count": 18,
   "id": "96909b44-2e8e-4dfd-bafd-659faa53ec74",
   "metadata": {},
   "outputs": [],
   "source": [
    "def not_nan(df):\n",
    "\n",
    "  # Заменим пропуски в категориальных данных предыдущими значением\n",
    "  category_columns = list(df.select_dtypes(include=[object]).columns)\n",
    "  for column in category_columns:\n",
    "    df[column].fillna(method='ffill', inplace=True)\n",
    "\n",
    "  # Заменим пропуски в числовых данных\n",
    "  num_columns = list((df.select_dtypes(include=[int, float]).columns))\n",
    "  for column in num_columns:\n",
    "    df[column].fillna(df[column].mean(), inplace=True)\n",
    "\n",
    "  return df"
   ]
  },
  {
   "cell_type": "code",
   "execution_count": 19,
   "id": "d0941bc6-9804-42fe-a843-728ede8eef47",
   "metadata": {},
   "outputs": [],
   "source": [
    "def work_fith_data(df, key):\n",
    "\n",
    "  # Применим степенное преобразование для числовых данных\n",
    "  num_columns = list((df.select_dtypes(include=[int, float]).columns))\n",
    "  pwt = PowerTransformer()\n",
    "  num_df = pd.DataFrame(pwt.fit_transform(df[num_columns]))\n",
    "  num_df.columns = num_columns\n",
    "\n",
    "  category_columns = list((df.select_dtypes(include=[object]).columns))\n",
    "  if key == 0: # One hot encoding для категориальных данных\n",
    "    ohe = OneHotEncoder(handle_unknown='ignore')\n",
    "    cat_df = pd.DataFrame(ohe.fit_transform(df[category_columns]).toarray())\n",
    "  elif key == 1: # Ordinal encoding для категориальных данных\n",
    "    ore = OrdinalEncoder()\n",
    "    cat_df = pd.DataFrame(ore.fit_transform(df[category_columns]))\n",
    "\n",
    "  return num_df.join(cat_df)"
   ]
  },
  {
   "cell_type": "markdown",
   "id": "2406215c-85aa-4b0c-84aa-5831a53fe22a",
   "metadata": {},
   "source": [
    "train_df = pred_obrabotka(train_df)\n",
    "test_df = pred_obrabotka(test_df)\n",
    "train_df = new_priznak(train_df)\n",
    "test_df = new_priznak(test_df)\n",
    "train_df = not_nan(train_df)\n",
    "test_df = not_nan(test_df)"
   ]
  },
  {
   "cell_type": "code",
   "execution_count": 20,
   "id": "148196de-8936-4122-968c-0378869ce9ef",
   "metadata": {},
   "outputs": [],
   "source": [
    "train_df.to_csv('../../data/baselines/train.csv', sep=',', index = False)\n",
    "test_df.to_csv('../../data/baselines/test.csv', sep=',', index = False)"
   ]
  }
 ],
 "metadata": {
  "kernelspec": {
   "display_name": "Python 3 (ipykernel)",
   "language": "python",
   "name": "python3"
  },
  "language_info": {
   "codemirror_mode": {
    "name": "ipython",
    "version": 3
   },
   "file_extension": ".py",
   "mimetype": "text/x-python",
   "name": "python",
   "nbconvert_exporter": "python",
   "pygments_lexer": "ipython3",
   "version": "3.10.12"
  }
 },
 "nbformat": 4,
 "nbformat_minor": 5
}
